{
 "cells": [
  {
   "cell_type": "code",
   "execution_count": null,
   "id": "7bf52d11-c267-4512-af92-ee47688d93da",
   "metadata": {},
   "outputs": [],
   "source": [
    "# Question 2"
   ]
  },
  {
   "cell_type": "code",
   "execution_count": 1,
   "id": "b49399cb-fd84-46e6-aa30-499a826497c0",
   "metadata": {},
   "outputs": [
    {
     "name": "stdout",
     "output_type": "stream",
     "text": [
      "Prior Probabilities: [0.45544554455445546, 0.5445544554455446]\n",
      "Confusion Matrix:\n",
      "[[11  2]\n",
      " [ 0 18]]\n",
      "Accuracy: 0.9354838709677419\n"
     ]
    }
   ],
   "source": [
    "import csv\n",
    "import numpy as np\n",
    "\n",
    "# Read the CSV file and store its rows in a list\n",
    "data_list = []\n",
    "with open('data.csv', 'r') as file:\n",
    "    reader = csv.reader(file)\n",
    "    header = next(reader)  # Get the header row\n",
    "    header_index = header.index('target')  # Find the index of the 'target' column\n",
    "\n",
    "    for row in reader:\n",
    "        data_list.append(row)\n",
    "\n",
    "# Convert the list of rows to a NumPy array, specifying dtype as np.float64\n",
    "data = np.array(data_list, dtype=np.float64)\n",
    "\n",
    "# Calculate prior\n",
    "def calculate_prior(df, target):\n",
    "    classes = sorted(np.unique(df[:, header_index]))\n",
    "    prior = []\n",
    "    total_samples = len(df)\n",
    "\n",
    "    for label in classes:\n",
    "        class_count = len(df[df[:, header_index] == label])\n",
    "        prior.append(class_count / total_samples)\n",
    "\n",
    "    return prior\n",
    "\n",
    "priors = calculate_prior(data, 'target')\n",
    "print(\"Prior Probabilities:\", priors)\n",
    "\n",
    "def calculate_likelihood_gaussian(df, feature, feat_value, header_index, label):\n",
    "    df_class = df[df[:, header_index] == label]\n",
    "    mean, std = df_class[:, feature].mean(), df_class[:, feature].std()\n",
    "    p_x_given_y = (1 / (np.sqrt(2 * np.pi) * std)) * np.exp(-((feat_value - mean) ** 2 / (2 * std ** 2)))\n",
    "    return p_x_given_y\n",
    "\n",
    "def naive_bayes_gaussian(df, X, Y):\n",
    "    labels = sorted(np.unique(df[:, header_index]))\n",
    "    Y_pred = []\n",
    "\n",
    "    for x in X:\n",
    "        likelihood = np.ones(len(labels))\n",
    "        for j, label in enumerate(labels):\n",
    "            for i in range(X.shape[1]):\n",
    "                likelihood[j] *= calculate_likelihood_gaussian(df, i, x[i], header_index, label)\n",
    "\n",
    "        prior = calculate_prior(df, Y)\n",
    "\n",
    "        post_prob = likelihood * prior\n",
    "        Y_pred.append(labels[np.argmax(post_prob)])\n",
    "\n",
    "    return np.array(Y_pred)\n",
    "\n",
    "from sklearn.model_selection import train_test_split\n",
    "\n",
    "# Split the data into train and test sets\n",
    "train, test = train_test_split(data, test_size=0.1, random_state=41)\n",
    "\n",
    "# Slice the test data (excluding the target column)\n",
    "X_test = test[:, :-1]\n",
    "Y_test = test[:, -1]\n",
    "\n",
    "# Apply the Naive Bayes algorithm and make predictions\n",
    "Y_pred = naive_bayes_gaussian(train, X_test, 'target')\n",
    "\n",
    "from sklearn.metrics import confusion_matrix, accuracy_score\n",
    "\n",
    "# Calculate the confusion matrix\n",
    "confusion = confusion_matrix(Y_test, Y_pred)\n",
    "\n",
    "# Calculate the accuracy\n",
    "accuracy = accuracy_score(Y_test, Y_pred)\n",
    "\n",
    "print(\"Confusion Matrix:\")\n",
    "print(confusion)\n",
    "print(\"Accuracy:\", accuracy)\n"
   ]
  },
  {
   "cell_type": "code",
   "execution_count": null,
   "id": "e5c06519-0b99-46c8-a565-c5a965a6b87a",
   "metadata": {},
   "outputs": [],
   "source": []
  }
 ],
 "metadata": {
  "kernelspec": {
   "display_name": "Python 3 (ipykernel)",
   "language": "python",
   "name": "python3"
  },
  "language_info": {
   "codemirror_mode": {
    "name": "ipython",
    "version": 3
   },
   "file_extension": ".py",
   "mimetype": "text/x-python",
   "name": "python",
   "nbconvert_exporter": "python",
   "pygments_lexer": "ipython3",
   "version": "3.11.4"
  }
 },
 "nbformat": 4,
 "nbformat_minor": 5
}
